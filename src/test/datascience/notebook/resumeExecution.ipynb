{
 "cells": [
  {
   "cell_type": "code",
   "execution_count": null,
   "metadata": {},
   "outputs": [
    {
     "name": "stdout",
     "output_type": "stream",
     "text": [
      "Started Execution\n",
      "Number:0\n",
      "Number:1\n",
      "Number:2\n"
     ]
    }
   ],
   "source": [
    "print(\"Started Execution\")\n",
    "import os, time\n",
    "\n",
    "while True:\n",
    "    if os.path.exists(%FILE%):\n",
    "        break\n",
    "    time.sleep(1)\n",
    "\n",
    "print(\"Resuming Execution:1\")\n",
    "time.sleep(1)\n",
    "print(\"Resuming Execution:2\")"
   ]
  }
 ],
 "metadata": {
  "kernelspec": {
   "display_name": "Python Kernel Spec",
   "language": "python",
   "name": "python3"
  },
  "language_info": {
   "name": "python",
   "version": "3.10.4"
  },
  "orig_nbformat": 4
 },
 "nbformat": 4,
 "nbformat_minor": 2
}
