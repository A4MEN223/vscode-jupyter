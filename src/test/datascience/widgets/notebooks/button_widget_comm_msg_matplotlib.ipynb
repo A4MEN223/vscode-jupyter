{
 "cells": [
  {
   "cell_type": "code",
   "execution_count": null,
   "metadata": {},
   "outputs": [],
   "source": [
    "%matplotlib widget\n",
    "from ipywidgets import widgets\n",
    "import matplotlib.pyplot as plt\n",
    "import numpy as np\n",
    "\n",
    "\n",
    "button = widgets.Button(description=\"Click Me!\")\n",
    "output = widgets.Output()\n",
    "\n",
    "def on_button_clicked(b):\n",
    "\twith output:\n",
    "\t\tX = np.linspace(0, 2*np.pi)\n",
    "\t\tY = np.sin(X)\n",
    "\n",
    "\t\tfig, ax = plt.subplots()\n",
    "\t\tax.plot(X, Y)\n",
    "\t\tplt.show(fig)\n",
    "\n",
    "button.on_click(on_button_clicked)\n",
    "\n",
    "output"
   ]
  },
  {
   "cell_type": "code",
   "execution_count": null,
   "metadata": {},
   "outputs": [],
   "source": [
    "button"
   ]
  }
 ],
 "metadata": {
  "language_info": {
   "name": "python"
  },
  "orig_nbformat": 4
 },
 "nbformat": 4,
 "nbformat_minor": 2
}
